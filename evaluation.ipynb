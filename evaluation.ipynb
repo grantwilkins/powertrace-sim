{
 "cells": [
  {
   "cell_type": "markdown",
   "id": "510cce43",
   "metadata": {},
   "source": [
    "## Power Trace CDFs and Representative Plots"
   ]
  },
  {
   "cell_type": "code",
   "execution_count": 8,
   "id": "9c7bb6b0",
   "metadata": {},
   "outputs": [],
   "source": [
    "import argparse\n",
    "import matplotlib\n",
    "import matplotlib.pyplot as plt\n",
    "import numpy as np\n",
    "import torch\n",
    "from scipy.stats import pearsonr\n",
    "from statsmodels.tsa.stattools import acf, pacf\n",
    "import pandas as pd\n",
    "import seaborn as sns\n",
    "\n",
    "from model.core.dataset import PowerTraceDataset\n",
    "from model.core.utils import load_classifier\n",
    "from model.predictors.smooth_sampler import SmoothingSampler"
   ]
  },
  {
   "cell_type": "code",
   "execution_count": null,
   "id": "3cdb6226",
   "metadata": {},
   "outputs": [
    {
     "name": "stderr",
     "output_type": "stream",
     "text": [
      "usage: ipykernel_launcher.py [-h] --data-file DATA_FILE --model\n",
      "                             {llama-3-8b,llama-3-70b,gpt-oss-20b,gpt-oss-120b}\n",
      "                             [--hardware_accelerator HARDWARE_ACCELERATOR]\n",
      "                             [--weights-path WEIGHTS_PATH] [--device DEVICE]\n",
      "ipykernel_launcher.py: error: the following arguments are required: --data-file, --model\n"
     ]
    },
    {
     "ename": "SystemExit",
     "evalue": "2",
     "output_type": "error",
     "traceback": [
      "An exception has occurred, use %tb to see the full traceback.\n",
      "\u001b[0;31mSystemExit\u001b[0m\u001b[0;31m:\u001b[0m 2\n"
     ]
    },
    {
     "name": "stderr",
     "output_type": "stream",
     "text": [
      "/Users/grantwilkins/anaconda3/envs/ml-inference/lib/python3.12/site-packages/IPython/core/interactiveshell.py:3585: UserWarning: To exit: use 'exit', 'quit', or Ctrl-D.\n",
      "  warn(\"To exit: use 'exit', 'quit', or Ctrl-D.\", stacklevel=1)\n"
     ]
    }
   ],
   "source": [
    "def compute_autocorrelation_metrics(real_trace, synthetic_trace, max_lags=50):\n",
    "    \"\"\"\n",
    "    Compare temporal autocorrelation between real and synthetic traces\n",
    "    \"\"\"\n",
    "    real_acf = acf(real_trace, nlags=max_lags, fft=True)\n",
    "    synthetic_acf = acf(synthetic_trace, nlags=max_lags, fft=True)\n",
    "    acf_correlation, _ = pearsonr(real_acf, synthetic_acf)\n",
    "    acf_mae = np.mean(np.abs(real_acf - synthetic_acf))\n",
    "\n",
    "    return {\n",
    "        \"real_acf\": real_acf,\n",
    "        \"synthetic_acf\": synthetic_acf,\n",
    "        \"acf_correlation\": acf_correlation,\n",
    "        \"acf_mae\": acf_mae,\n",
    "    }\n"
   ]
  },
  {
   "cell_type": "code",
   "execution_count": 35,
   "id": "796cd1d2",
   "metadata": {},
   "outputs": [],
   "source": [
    "data_file = \"./model/training_data/vllm-benchmark_llama-3-70b_a100.npz\"\n",
    "model = \"llama-3-70b\"\n",
    "hardware_accelerator = \"h100\"\n",
    "weights_path = \"model/sharegpt_gru_classifier_weights/\"\n",
    "device=\"cpu\"\n",
    "hw=\"h100\""
   ]
  },
  {
   "cell_type": "code",
   "execution_count": 36,
   "id": "a3a93398",
   "metadata": {},
   "outputs": [
    {
     "name": "stdout",
     "output_type": "stream",
     "text": [
      "\n",
      "Processing TP=4\n",
      "Loading classifier from model/sharegpt_gru_classifier_weights/llama-3-70b_h100_tp4.pt on device: cpu\n"
     ]
    },
    {
     "name": "stderr",
     "output_type": "stream",
     "text": [
      "/Users/grantwilkins/powertrace-sim/model/core/utils.py:85: FutureWarning: You are using `torch.load` with `weights_only=False` (the current default value), which uses the default pickle module implicitly. It is possible to construct malicious pickle data which will execute arbitrary code during unpickling (See https://github.com/pytorch/pytorch/blob/main/SECURITY.md#untrusted-models for more details). In a future release, the default value for `weights_only` will be flipped to `True`. This limits the functions that could be executed during unpickling. Arbitrary objects will no longer be allowed to be loaded via this mode unless they are explicitly allowlisted by the user via `torch.serialization.add_safe_globals`. We recommend you start setting `weights_only=True` for any use case where you don't have full control of the loaded file. Please open an issue on GitHub for any issues related to this experimental feature.\n",
      "  classifier.load_state_dict(torch.load(path, map_location=device))\n"
     ]
    },
    {
     "name": "stdout",
     "output_type": "stream",
     "text": [
      "Overall - KS Statistic: 0.608360446126774, p-value: 0.0\n",
      "TP=4 indices: [8, 4, 8, 4, 4, 4, 8, 8, 8, 8, 4, 8, 4, 4, 8, 4, 8, 8, 8, 8, 4, 8, 8, 4, 4, 4, 4, 4, 8, 8, 4, 4, 4, 4, 8, 4, 8, 8, 8, 8, 8, 8, 4, 8, 8, 4, 4, 8, 8, 4, 8, 4, 4, 8, 4, 8, 4, 4, 4, 4]\n",
      "Total energy consumed (original): 20990460.00 J\n",
      "Total energy consumed (sampled): 9941747.71 J\n",
      "Energy difference: -11048712.29 J\n",
      "Computing autocorrelation metrics...\n",
      "Autocorrelation metrics:\n",
      "ACF Correlation: 0.9434\n",
      "ACF MAE: 0.2655\n",
      "Earth Mover's Distance: 559.5770\n",
      "P99 Error: 5.50%\n",
      "P95 Error: 11.48%\n",
      "NRMSE: 0.5964\n"
     ]
    }
   ],
   "source": [
    "\n",
    "dataset = PowerTraceDataset(data_file)\n",
    "# tp = tp\n",
    "# Define a consistent color key mapping for TP values\n",
    "# Using matplotlib's default color cycle for consistency\n",
    "tp_values = [4]\n",
    "tp_color_key = {\n",
    "    1: \"#1f77b4\",  # blue\n",
    "    2: \"#ff7f0e\",  # orange\n",
    "    4: \"#2ca02c\",  # green\n",
    "    8: \"#d62728\",  # red\n",
    "}\n",
    "\n",
    "# Store all CDF data for plotting\n",
    "cdf_data = []\n",
    "\n",
    "for tp in tp_values:\n",
    "    print(f\"\\nProcessing TP={tp}\")\n",
    "    classifier = load_classifier(\n",
    "        weights_path + model + f\"_{hardware_accelerator}_tp{tp}.pt\",\n",
    "        device=device,\n",
    "        Dx=dataset.traces[0][\"x\"].shape[1],\n",
    "        K=6,\n",
    "    )\n",
    "    smoother = SmoothingSampler(dataset)\n",
    "    tp_indices = [i for i, tp_i in enumerate(dataset.tp_all) if tp_i == tp]\n",
    "\n",
    "    all_original_power = []\n",
    "    all_sampled_power = []\n",
    "    sampled_power_arrs = {}\n",
    "    import scipy.stats as stats\n",
    "\n",
    "    min_power = float(\"inf\")\n",
    "    max_power = float(\"-inf\")\n",
    "    for idx in tp_indices:\n",
    "        trace_power = dataset.traces[idx][\"y\"].flatten()\n",
    "        min_power = min(min_power, np.min(trace_power))\n",
    "        max_power = max(max_power, np.max(trace_power))\n",
    "\n",
    "    plt.clf()\n",
    "    plt.plot(dataset.traces[tp_indices[0]][\"z\"].flatten(), color=tp_color_key[tp])\n",
    "    plt.xlim(0, 50)\n",
    "    plt.title(\"State Sequence for First Trace\")\n",
    "    plt.xlabel(\"Time Step\")\n",
    "    plt.ylabel(\"State\")\n",
    "    plt.savefig(f\"state_sequence_trace_{tp}.pdf\")\n",
    "    plt.close()\n",
    "    plt.plot(dataset.traces[tp_indices[0]][\"y\"].flatten(), color=tp_color_key[tp])\n",
    "    plt.xlim(0, 50)\n",
    "    plt.title(\"Power Trace for First Trace\")\n",
    "    plt.xlabel(\"Time Step\")\n",
    "    plt.ylabel(\"Power (W)\")\n",
    "    plt.savefig(f\"power_trace_{tp}.pdf\")\n",
    "    plt.close()\n",
    "\n",
    "    for idx in tp_indices:\n",
    "        time, power, states = smoother.sample_power(\n",
    "            classifier,\n",
    "            dataset.mu[tp],\n",
    "            dataset.sigma[tp],\n",
    "            dataset.traces[idx][\"x\"],\n",
    "            dt=0.25,\n",
    "            smoothing_window=5,\n",
    "        )\n",
    "        power = np.clip(power, min_power, max_power)\n",
    "        original_power = dataset.traces[idx][\"y\"].flatten()\n",
    "        sampled_power = power.flatten()\n",
    "        sampled_power_arrs[idx] = (time, sampled_power)\n",
    "        all_original_power.append(original_power)\n",
    "        all_sampled_power.append(sampled_power)\n",
    "\n",
    "    all_original_power = np.concatenate(all_original_power)\n",
    "    all_sampled_power = np.concatenate(all_sampled_power)\n",
    "    overall_ks_stat, overall_p_value = stats.ks_2samp(\n",
    "        all_original_power, all_sampled_power\n",
    "    )\n",
    "    print(f\"Overall - KS Statistic: {overall_ks_stat}, p-value: {overall_p_value}\")\n",
    "    sorted_original_power = np.sort(all_original_power)\n",
    "    sorted_sampled_power = np.sort(all_sampled_power)\n",
    "\n",
    "    cdf_original = np.arange(1, len(sorted_original_power) + 1) / len(\n",
    "        sorted_original_power\n",
    "    )\n",
    "    cdf_sampled = np.arange(1, len(sorted_sampled_power) + 1) / len(\n",
    "        sorted_sampled_power\n",
    "    )\n",
    "\n",
    "    # Add data to cdf_data list\n",
    "    cdf_data.extend(\n",
    "        [\n",
    "            {\"Power\": p, \"CDF\": c, \"Type\": \"Original\", \"TP\": tp}\n",
    "            for p, c in zip(sorted_original_power, cdf_original)\n",
    "        ]\n",
    "    )\n",
    "    cdf_data.extend(\n",
    "        [\n",
    "            {\"Power\": p, \"CDF\": c, \"Type\": \"Sampled\", \"TP\": tp}\n",
    "            for p, c in zip(sorted_sampled_power, cdf_sampled)\n",
    "        ]\n",
    "    )\n",
    "\n",
    "    print(f\"TP={tp} indices:\", dataset.tp_all)\n",
    "\n",
    "    total_energy_original = np.trapz(all_original_power, dx=0.25)\n",
    "    total_energy_sampled = np.trapz(all_sampled_power, dx=0.25)\n",
    "    print(f\"Total energy consumed (original): {total_energy_original:.2f} J\")\n",
    "    print(f\"Total energy consumed (sampled): {total_energy_sampled:.2f} J\")\n",
    "    print(\n",
    "        f\"Energy difference: {total_energy_sampled - total_energy_original:.2f} J\"\n",
    "    )\n",
    "\n",
    "    # Compute autocorrelation metrics\n",
    "    print(\"Computing autocorrelation metrics...\")\n",
    "    autocorr_metrics = compute_autocorrelation_metrics(\n",
    "        all_original_power, all_sampled_power\n",
    "    )\n",
    "    print(\"Autocorrelation metrics:\")\n",
    "    print(f\"ACF Correlation: {autocorr_metrics['acf_correlation']:.4f}\")\n",
    "    print(f\"ACF MAE: {autocorr_metrics['acf_mae']:.4f}\")\n",
    "\n",
    "    # Compute earth mover's distance\n",
    "    from scipy.stats import wasserstein_distance\n",
    "\n",
    "    emd = wasserstein_distance(sorted_original_power, sorted_sampled_power)\n",
    "    print(f\"Earth Mover's Distance: {emd:.4f}\")\n",
    "\n",
    "    # Calculate p99 error\n",
    "    p99_original = np.percentile(all_original_power, 99)\n",
    "    p99_sampled = np.percentile(all_sampled_power, 99)\n",
    "    p99_error = np.abs(p99_original - p99_sampled) / p99_original * 100\n",
    "    print(f\"P99 Error: {p99_error:.2f}%\")\n",
    "\n",
    "    # Calculate p95 error\n",
    "    p95_original = np.percentile(all_original_power, 95)\n",
    "    p95_sampled = np.percentile(all_sampled_power, 95)\n",
    "    p95_error = np.abs(p95_original - p95_sampled) / p95_original * 100\n",
    "    print(f\"P95 Error: {p95_error:.2f}%\")\n",
    "\n",
    "    # Compute NRMSE\n",
    "    nrmse = np.sqrt(np.mean((all_original_power - all_sampled_power) ** 2)) / (\n",
    "        np.max(all_original_power) - np.min(all_original_power)\n",
    "    )\n",
    "    print(f\"NRMSE: {nrmse:.4f}\")"
   ]
  },
  {
   "cell_type": "code",
   "execution_count": 37,
   "id": "054c21e2",
   "metadata": {},
   "outputs": [
    {
     "data": {
      "image/png": "[encoded data removed]",
      "text/plain": [
       "<Figure size 350x300 with 1 Axes>"
      ]
     },
     "metadata": {},
     "output_type": "display_data"
    }
   ],
   "source": [
    "from matplotlib.patches import bbox_artist\n",
    "\n",
    "\n",
    "df = pd.DataFrame(cdf_data)\n",
    "if len(df) > 10000:  # If more than 10k points, sample down\n",
    "    df = df.sample(n=10000, random_state=42)\n",
    "sns.set_style(\"whitegrid\")\n",
    "sns.set_context(\"paper\", font_scale=1.7)\n",
    "matplotlib.rcParams[\"pdf.fonttype\"] = 42\n",
    "matplotlib.rcParams[\"ps.fonttype\"] = 42\n",
    "matplotlib.rcParams[\"font.family\"] = \"Times New Roman\"\n",
    "\n",
    "# Custom palette: map TP to color via the color key (as str, since seaborn expects str keys for hue)\n",
    "palette = {tp: tp_color_key[tp] for tp in tp_values}\n",
    "\n",
    "plt.figure(figsize=(3.5, 3))\n",
    "sns.lineplot(\n",
    "    data=df,\n",
    "    x=\"Power\",\n",
    "    y=\"CDF\",\n",
    "    style=\"Type\",\n",
    "    hue=\"TP\",\n",
    "    lw=1.5,\n",
    "    palette=palette,\n",
    ")\n",
    "# plt.xlim(0, 1600)\n",
    "plt.ylim(0, 1.05)\n",
    "plt.xlabel(\"Active GPU Power (W)\")\n",
    "plt.ylabel(\"CDF\")\n",
    "plt.tight_layout()\n",
    "plt.legend(bbox_to_anchor=(1.05, 1), loc='upper left')\n",
    "# plt.legend().remove()\n",
    "plt.savefig(f\"cdf-power-trace_{model}_{hw}_combined.pdf\", bbox_inches=\"tight\")\n",
    "# plt.close()"
   ]
  }
 ],
 "metadata": {
  "kernelspec": {
   "display_name": "ml-inference",
   "language": "python",
   "name": "python3"
  },
  "language_info": {
   "codemirror_mode": {
    "name": "ipython",
    "version": 3
   },
   "file_extension": ".py",
   "mimetype": "text/x-python",
   "name": "python",
   "nbconvert_exporter": "python",
   "pygments_lexer": "ipython3",
   "version": "3.12.2"
  }
 },
 "nbformat": 4,
 "nbformat_minor": 5
}
